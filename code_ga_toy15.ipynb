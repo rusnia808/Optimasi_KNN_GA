{
 "cells": [
  {
   "cell_type": "markdown",
   "metadata": {},
   "source": []
  },
  {
   "cell_type": "code",
   "execution_count": 266,
   "metadata": {},
   "outputs": [],
   "source": [
    "import numpy as np\n",
    "import pandas as pd\n",
    "import random\n",
    "# Parameters of the binary genetic algorithm\n",
    "datafull=pd.read_csv('fullFrame_toy15.csv')\n",
    "data=len(datafull.values)\n",
    "iteration = 25\n",
    "gen = 6 # number of bits for each variable\n",
    "pop_size = 5\n",
    "parent_size=2\n",
    "crossover_rate = 0.8\n",
    "mutation_rate = 0.01"
   ]
  },
  {
   "cell_type": "markdown",
   "metadata": {},
   "source": [
    "RANDOM DECIMAL"
   ]
  },
  {
   "cell_type": "code",
   "execution_count": 267,
   "metadata": {},
   "outputs": [
    {
     "name": "stdout",
     "output_type": "stream",
     "text": [
      "[2 3 4 8 9]\n"
     ]
    }
   ],
   "source": [
    "k_decimal = []\n",
    "tmp = np.random.randint(1, data)\n",
    "for x in range(pop_size):\n",
    "    while tmp in k_decimal:\n",
    "        tmp = np.random.randint(1, data)  \n",
    "    k_decimal.append(tmp)\n",
    "k_decimal=np.sort(k_decimal)\n",
    "print(k_decimal)"
   ]
  },
  {
   "cell_type": "markdown",
   "metadata": {},
   "source": [
    "DECIMAL TO BINARY"
   ]
  },
  {
   "cell_type": "code",
   "execution_count": 268,
   "metadata": {},
   "outputs": [
    {
     "name": "stdout",
     "output_type": "stream",
     "text": [
      "[[0, 0, 0, 0, 1, 0], [0, 0, 0, 0, 1, 1], [0, 0, 0, 1, 0, 0], [0, 0, 1, 0, 0, 0], [0, 0, 1, 0, 0, 1]]\n"
     ]
    }
   ],
   "source": [
    "k_binary=[] #k_binary -> kromosom\n",
    "populasi=[]\n",
    "for i in range(len(k_decimal)):\n",
    "    k_binary.append(np.binary_repr(k_decimal[i], 6))\n",
    "    gen=[]\n",
    "    for j in range(len(k_binary[i])):\n",
    "        gen.append(int(k_binary[i][j]))\n",
    "    populasi.append(gen)\n",
    "print(populasi)"
   ]
  },
  {
   "cell_type": "markdown",
   "metadata": {},
   "source": [
    "READ EUCLIDEAN FROM CSV"
   ]
  },
  {
   "cell_type": "code",
   "execution_count": 269,
   "metadata": {},
   "outputs": [],
   "source": [
    "\n",
    "datasetEuc=pd.read_csv('euclideanToy15_knn.csv')\n",
    "euclidean=[]\n",
    "euclidean_sorted=[]\n",
    "indexSorted =[]\n",
    "for x in range(len(datasetEuc.values)):\n",
    "    to_be_removed_inds = [0]\n",
    "    data = datasetEuc.values[x]\n",
    "    data = data[[x for x in range(len(data)) if x not in to_be_removed_inds]]\n",
    "    euclidean.append(data)\n",
    "    data = np.argsort(data)\n",
    "    indexSorted.append(data)\n",
    "for x in range(len(indexSorted)):\n",
    "    data=[]\n",
    "    for y in range(len(indexSorted[x])):\n",
    "        data.append(euclidean[x][y])\n",
    "    euclidean_sorted.append(data)\n",
    "# print(euclidean_sorted)\n"
   ]
  },
  {
   "cell_type": "markdown",
   "metadata": {},
   "source": [
    "FITNESS"
   ]
  },
  {
   "cell_type": "code",
   "execution_count": 270,
   "metadata": {},
   "outputs": [],
   "source": [
    "fitnes=[]\n",
    "probFitnes=[]\n",
    "for i in range(len(euclidean_sorted)):\n",
    "    fitKol=[]\n",
    "    pfKol=[]\n",
    "    for j in range(len(k_decimal)): #meghitung nilai fitness\n",
    "        # print(i,euclidean_sorted[i][0:k_decimal[j]],\"->\",1/sum(euclidean_sorted[i][0:k_decimal[j]]))\n",
    "        fitKol.append(1/sum(euclidean_sorted[i][0:k_decimal[j]]))\n",
    "    fitnes.append(fitKol)\n",
    "    for j in range(len(fitnes[i])): #menghitung nilai probabilitas fitness\n",
    "        # print(i,fitnes[i][j],sum(fitnes[i]),fitnes[i][j]/sum(fitnes[i]))\n",
    "        pfKol.append(fitnes[i][j]/sum(fitnes[i]))\n",
    "    probFitnes.append(pfKol)\n",
    "# print(\"FITNESS\\n\",fitnes)\n",
    "# print(\"\\nPROBABILITAS FITNESS\\n\",probFitnes)"
   ]
  },
  {
   "cell_type": "markdown",
   "metadata": {},
   "source": [
    "PENENTUAN DAERAH KROMOSOM"
   ]
  },
  {
   "cell_type": "code",
   "execution_count": 275,
   "metadata": {},
   "outputs": [],
   "source": [
    "#probabilitask kumulatif\n",
    "probKum=[]\n",
    "for i in range(len(probFitnes)):\n",
    "    pkKol=[]\n",
    "    for j in range(len(probFitnes[i])):\n",
    "        if(j==0): # print(i,j,probFitnes[i][j])\n",
    "            pkKol.append(probFitnes[i][j])\n",
    "        else: # print(i,j,sum(probFitnes[i][0:j])+probFitnes[i][j])\n",
    "            pkKol.append(sum(probFitnes[i][0:j])+probFitnes[i][j])\n",
    "    probKum.append(pkKol)\n",
    "\n",
    "#daerah kromosom\n",
    "daerahKromosom=[]\n",
    "for i in range(len(probKum)):\n",
    "    daerah=[]\n",
    "    for j in range(len(probKum[i])):\n",
    "        if(j==0):\n",
    "            daerah.append([0,probKum[i][j]])\n",
    "        else:\n",
    "            awal=probKum[i][j-1]+0.0000000000001\n",
    "            akhir=probKum[i][j]\n",
    "            daerah.append([awal,akhir])\n",
    "    daerahKromosom.append(daerah)\n",
    "    # for j in range(len(daerahKromosom[i])):\n",
    "    #     print(\"proses missing value ke\",i,\"-> Kromosom\",j+1,daerahKromosom[i][j])"
   ]
  },
  {
   "cell_type": "markdown",
   "metadata": {},
   "source": [
    "SELEKSI PARENTS"
   ]
  },
  {
   "cell_type": "code",
   "execution_count": 272,
   "metadata": {},
   "outputs": [
    {
     "name": "stdout",
     "output_type": "stream",
     "text": [
      "[[4, 3], [2, 0], [2, 0], [1, 4], [2, 1]]\n",
      "[0, 1, 2, 3, 4]\n"
     ]
    }
   ],
   "source": [
    "#RANDOM PARENT\n",
    "random_value=[]\n",
    "parent=[]\n",
    "index_parent=[]\n",
    "for i in range(len(daerahKromosom)):\n",
    "    parentKol=[random.random(),random.random()]\n",
    "    random_value.append(parentKol)\n",
    "    # print(\"Proses missing value  ke\",i,\"-> nilai random parent\",random_value[i])\n",
    "    lpKol=[]\n",
    "    for j in range(len(random_value[i])):\n",
    "        for x in range(len(daerahKromosom[i])):\n",
    "            if(random_value[i][j]>daerahKromosom[i][x][0] and random_value[i][j]<daerahKromosom[i][x][1]): # print(\"Field\",i,\"Parent\",parent[i][j],\"--> Kromosom\",x+1)\n",
    "                lpKol.append(x)#index daerah kromosom\n",
    "            else:\n",
    "                continue\n",
    "    index_parent.append(i)\n",
    "    parent.append(lpKol)#index kromosom / daerah kromosom\n",
    "print(parent)\n",
    "print(index_parent) #index urut berdasarkan tiap proses missing value"
   ]
  },
  {
   "cell_type": "markdown",
   "metadata": {},
   "source": [
    "CROSSOVER"
   ]
  },
  {
   "cell_type": "code",
   "execution_count": 273,
   "metadata": {},
   "outputs": [
    {
     "name": "stdout",
     "output_type": "stream",
     "text": [
      "[0, 1, 4, 3]\n",
      "0 [4, 3] >> 4 [0, 0, 1, 0, 0, 1] | 3 [0, 0, 1, 0, 0, 0]\n",
      "to be co 1 [0, 0, 1, 0, 0, 1] >> to be co2 [0, 0, 1, 0, 0, 0]\n",
      ">> result [0, 0, 1, 0, 0, 0] >> [0, 0, 1, 0, 0, 1] \n",
      "\n",
      "1 [2, 0] >> 2 [0, 0, 0, 1, 0, 0] | 0 [0, 0, 0, 0, 1, 0]\n",
      "to be co 1 [0, 0, 0, 1, 0, 0] >> to be co2 [0, 0, 0, 0, 1, 0]\n",
      ">> result [0, 0, 0, 1, 0, 0] >> [0, 0, 0, 0, 1, 0] \n",
      "\n",
      "2 [2, 1] >> 2 [0, 0, 0, 1, 0, 0] | 1 [0, 0, 0, 0, 1, 1]\n",
      "to be co 1 [0, 0, 0, 1, 0, 0] >> to be co2 [0, 0, 0, 0, 1, 1]\n",
      ">> result [0, 0, 0, 1, 0, 1] >> [0, 0, 0, 0, 1, 0] \n",
      "\n",
      "3 [1, 4] >> 1 [0, 0, 0, 0, 1, 1] | 4 [0, 0, 1, 0, 0, 1]\n",
      "to be co 1 [0, 0, 0, 0, 1, 1] >> to be co2 [0, 0, 1, 0, 0, 1]\n",
      ">> result [0, 0, 0, 0, 1, 1] >> [0, 0, 1, 0, 0, 1] \n",
      "\n"
     ]
    }
   ],
   "source": [
    "range_to_crossover= int(crossover_rate*len(index_parent))\n",
    "rand_idx = random.sample(index_parent,range_to_crossover) #yang dilakukan random adalah indexnya\n",
    "print(rand_idx)\n",
    "for i in range(len(rand_idx)):\n",
    "    index_crossover=parent[rand_idx[i]]\n",
    "    print(i,parent[rand_idx[i]],\">>\",index_crossover[0],populasi[index_crossover[0]],\"|\",index_crossover[1],populasi[index_crossover[1]])\n",
    "    to_be_crossover1,to_be_crossover2=[],[]\n",
    "    to_be_crossover1+=populasi[index_crossover[0]]\n",
    "    to_be_crossover2+=populasi[index_crossover[1]]\n",
    "\n",
    "    child1,child2=[],[]\n",
    "    child1+=populasi[index_crossover[0]]\n",
    "    child2+=populasi[index_crossover[1]]\n",
    "\n",
    "    print(\"to be co 1\",to_be_crossover1,\">>\",\"to be co2\",to_be_crossover2)\n",
    "    # c1\n",
    "    child1[:2]=to_be_crossover2[:2]\n",
    "    child1[5:]=to_be_crossover2[5:]\n",
    "    # c2\n",
    "    child2[:2]=to_be_crossover1[:2]\n",
    "    child2[5:]=to_be_crossover1[5:]\n",
    "    print(\">> result\",child1,\">>\",child2,\"\\n\")"
   ]
  }
 ],
 "metadata": {
  "kernelspec": {
   "display_name": "Python 3.10.5 64-bit",
   "language": "python",
   "name": "python3"
  },
  "language_info": {
   "codemirror_mode": {
    "name": "ipython",
    "version": 3
   },
   "file_extension": ".py",
   "mimetype": "text/x-python",
   "name": "python",
   "nbconvert_exporter": "python",
   "pygments_lexer": "ipython3",
   "version": "3.10.5"
  },
  "orig_nbformat": 4,
  "vscode": {
   "interpreter": {
    "hash": "60196bdd863df0646a56d632b56b66c7783917e6db970ccb986bb52859a83ba6"
   }
  }
 },
 "nbformat": 4,
 "nbformat_minor": 2
}
